{
  "nbformat": 4,
  "nbformat_minor": 0,
  "metadata": {
    "colab": {
      "name": "chaitanya.dharmireddi_20bcs041_OOPtask1.ipynb",
      "provenance": [],
      "collapsed_sections": []
    },
    "kernelspec": {
      "name": "python3",
      "display_name": "Python 3"
    },
    "language_info": {
      "name": "python"
    }
  },
  "cells": [
    {
      "cell_type": "markdown",
      "metadata": {
        "id": "OqzlEf3WfHeb"
      },
      "source": [
        "problem 1"
      ]
    },
    {
      "cell_type": "code",
      "metadata": {
        "id": "prkQH_QHbLCR",
        "colab": {
          "base_uri": "https://localhost:8080/"
        },
        "outputId": "133224f5-2e03-4d65-cd60-905cdd15a039"
      },
      "source": [
        "def leap(year):\n",
        "\n",
        "  if (year % 4 == 0) and (year % 100 != 0): \n",
        "      leap = True\n",
        "  elif (year % 100 == 0) and (year % 400 != 0):\n",
        "      leap = False\n",
        "  elif (year % 400 == 0):\n",
        "      leap = True\n",
        "  else:\n",
        "      leap = False\n",
        "\n",
        "  return leap\n",
        "\n",
        "\n",
        "year = int(input(\"enter year number:\"))\n",
        "print(leap(year))"
      ],
      "execution_count": 4,
      "outputs": [
        {
          "output_type": "stream",
          "name": "stdout",
          "text": [
            "enter year number:2000\n",
            "True\n"
          ]
        }
      ]
    },
    {
      "cell_type": "markdown",
      "metadata": {
        "id": "QaUOx1eOCG8P"
      },
      "source": [
        "problem 2"
      ]
    },
    {
      "cell_type": "code",
      "metadata": {
        "colab": {
          "base_uri": "https://localhost:8080/"
        },
        "id": "IFd2VgUkpRqH",
        "outputId": "45b0a4ee-9c42-429b-aea9-8ede450d59c0"
      },
      "source": [
        "num = int(input(\"enter value of n:\"))\n",
        "\n",
        "if (num % 2 )==1:\n",
        "  print(\"weird\")\n",
        "elif (2<num<5):\n",
        "  print(\"not weird\")\n",
        "elif (6<num<20):\n",
        "  print(\"weird\")\n",
        "elif (num>20):\n",
        "  print(\"not weird\")  \n",
        "  \n"
      ],
      "execution_count": 34,
      "outputs": [
        {
          "output_type": "stream",
          "name": "stdout",
          "text": [
            "enter value of n:5\n",
            "weird\n"
          ]
        }
      ]
    },
    {
      "cell_type": "markdown",
      "metadata": {
        "id": "8VB7KHGICJTQ"
      },
      "source": [
        "problem 3"
      ]
    },
    {
      "cell_type": "code",
      "metadata": {
        "colab": {
          "base_uri": "https://localhost:8080/"
        },
        "id": "1Hk4UM1l7-PO",
        "outputId": "57374785-ede3-469e-b3f4-b11a03136443"
      },
      "source": [
        "\n",
        "name = []\n",
        "num =int(input(\"enter number of guest :\"))\n",
        "half =(num // 2) \n",
        "for i in range(num):\n",
        "      add = input(str('name of the guest: '))\n",
        "      name.append(add)\n",
        "print(name)\n",
        "print(\"The folloeing Guest are Fashionably Late .\")\n",
        "print(name[half:num-1])\n"
      ],
      "execution_count": 8,
      "outputs": [
        {
          "output_type": "stream",
          "name": "stdout",
          "text": [
            "enter number of guest :7\n",
            "name of the guest: A\n",
            "name of the guest: B\n",
            "name of the guest: C\n",
            "name of the guest: D\n",
            "name of the guest: E\n",
            "name of the guest: F\n",
            "name of the guest: G\n",
            "['A', 'B', 'C', 'D', 'E', 'F', 'G']\n",
            "The folloeing Guest are Fashionably Late .\n",
            "['D', 'E', 'F']\n"
          ]
        }
      ]
    },
    {
      "cell_type": "markdown",
      "metadata": {
        "id": "U1SPHOvZDHE-"
      },
      "source": [
        "problem 5"
      ]
    },
    {
      "cell_type": "code",
      "metadata": {
        "colab": {
          "base_uri": "https://localhost:8080/"
        },
        "id": "zEmK2AltDEX6",
        "outputId": "4a1792d3-c13c-4215-8ba9-33e04ff41e4b"
      },
      "source": [
        "BP = int(input(\"enter the value of bp:\"))\n",
        "DA = 40/100 *BP\n",
        "HRA = 20/100 *BP\n",
        "GP =BP + DA +HRA\n",
        "print(\"GP=\",GP)"
      ],
      "execution_count": 6,
      "outputs": [
        {
          "output_type": "stream",
          "name": "stdout",
          "text": [
            "enter the value of bp:1000\n",
            "GP= 1600.0\n"
          ]
        }
      ]
    }
  ]
}