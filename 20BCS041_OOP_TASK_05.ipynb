{
  "nbformat": 4,
  "nbformat_minor": 0,
  "metadata": {
    "colab": {
      "name": "20BCS041-OOP TASK-05.ipynb",
      "provenance": [],
      "collapsed_sections": [],
      "authorship_tag": "ABX9TyOuXwjvt3VNrBtDr5EA7f6Q",
      "include_colab_link": true
    },
    "kernelspec": {
      "name": "python3",
      "display_name": "Python 3"
    },
    "language_info": {
      "name": "python"
    }
  },
  "cells": [
    {
      "cell_type": "markdown",
      "metadata": {
        "id": "view-in-github",
        "colab_type": "text"
      },
      "source": [
        "<a href=\"https://colab.research.google.com/github/chaitanya041/chaitanya.dharmireddi_20bcs041_OOPtask1/blob/main/20BCS041_OOP_TASK_05.ipynb\" target=\"_parent\"><img src=\"https://colab.research.google.com/assets/colab-badge.svg\" alt=\"Open In Colab\"/></a>"
      ]
    },
    {
      "cell_type": "markdown",
      "metadata": {
        "id": "PAxQqvd_1DBh"
      },
      "source": [
        "## 1."
      ]
    },
    {
      "cell_type": "code",
      "metadata": {
        "colab": {
          "base_uri": "https://localhost:8080/"
        },
        "id": "UgnHsETwj4WN",
        "outputId": "d9bfe951-bc24-4212-d671-13f2bb875919"
      },
      "source": [
        "class Shape:\n",
        "  print(\"shape class\")\n",
        "  \n",
        "class Rectangle(Shape):\n",
        "    def __init__(self, length, breadth):\n",
        "        self.__length = length\n",
        "        self.__breadth = breadth\n",
        "\n",
        "    def area(self):\n",
        "        return self.__length * self.__breadth\n",
        "class square(Shape):\n",
        "    def __init__(self, length):\n",
        "        self.__length = length\n",
        "    def area(self):\n",
        "        return self.__length * self.__length       \n",
        "\n",
        "class Circle(Shape):\n",
        "    def __init__(self, radius):\n",
        "        self.__radius = radius\n",
        "    def area(self):\n",
        "        pi = 3.14\n",
        "        return pi * self.__radius ** 2\n",
        "\n",
        "r1 = Rectangle(10,2)\n",
        "print(\"Area of rectangle r1:\", r1.area())\n",
        "s1 = square(2)\n",
        "print(\"\\nArea of rectangle r1:\", s1.area())\n",
        "c1 = Circle(12)\n",
        "print(\"\\nArea of circle c1:\",c1.area())"
      ],
      "execution_count": 19,
      "outputs": [
        {
          "output_type": "stream",
          "name": "stdout",
          "text": [
            "shape class\n",
            "Area of rectangle r1: 20\n",
            "\n",
            "Area of rectangle r1: 4\n",
            "\n",
            "Area of circle c1: 452.16\n"
          ]
        }
      ]
    },
    {
      "cell_type": "markdown",
      "metadata": {
        "id": "eWUSTjfz1IId"
      },
      "source": [
        "## 2."
      ]
    },
    {
      "cell_type": "code",
      "metadata": {
        "colab": {
          "base_uri": "https://localhost:8080/"
        },
        "id": "sBoIeEYs1IvU",
        "outputId": "d988d422-b50f-4f50-84bd-ab8171c8166d"
      },
      "source": [
        "class travel:\n",
        "  def __init__(self,number_of_passengers,distance_travelled,mode_of_transportation):\n",
        "    self.N=number_of_passengers\n",
        "    self.D = distance_travelled\n",
        "    self.M=mode_of_transportation\n",
        "\n",
        "class train(travel):\n",
        "  def cost(self):\n",
        "    n = self.N\n",
        "    cost_of_travelling_through_train = 60 * n\n",
        "    print('cost of travelling through train for {} peron/persons is:'.format(n),cost_of_travelling_through_train)\n",
        "\n",
        "class bus(travel):\n",
        "  def cost(self):\n",
        "    n = self.N\n",
        "    cost_of_travelling_through_bus = 100 * n  \n",
        "    print('cost of travelling through bus for {} peron/persons is:'.format(n),cost_of_travelling_through_bus)\n",
        " \n",
        "t = train(1,'100miles','train')\n",
        "t.cost()\n",
        "b = bus(2,'100miles','bus')\n",
        "b.cost()\n",
        "\n"
      ],
      "execution_count": 47,
      "outputs": [
        {
          "output_type": "stream",
          "name": "stdout",
          "text": [
            "cost of travelling through train for 1 peron/persons is: 60\n",
            "cost of travelling through bus for 2 peron/persons is: 200\n"
          ]
        }
      ]
    },
    {
      "cell_type": "markdown",
      "metadata": {
        "id": "_IcXciHMHNfl"
      },
      "source": [
        "## 3"
      ]
    },
    {
      "cell_type": "code",
      "metadata": {
        "colab": {
          "base_uri": "https://localhost:8080/"
        },
        "id": "sbhDrVhUHPDk",
        "outputId": "dd4d8548-58ff-4dbc-f1b3-b2128ede21ee"
      },
      "source": [
        "class car:\n",
        "  def __init__(self,model_number):\n",
        "    self.M=model_number\n",
        "c1=car(5)\n",
        "c2=car(6)\n",
        "print(c1.M)    \n",
        "print(c2.M)"
      ],
      "execution_count": 49,
      "outputs": [
        {
          "output_type": "stream",
          "name": "stdout",
          "text": [
            "5\n",
            "6\n"
          ]
        }
      ]
    }
  ]
}